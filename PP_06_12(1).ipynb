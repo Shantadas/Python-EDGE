{
  "nbformat": 4,
  "nbformat_minor": 0,
  "metadata": {
    "colab": {
      "private_outputs": true,
      "provenance": []
    },
    "kernelspec": {
      "name": "python3",
      "display_name": "Python 3"
    },
    "language_info": {
      "name": "python"
    }
  },
  "cells": [
    {
      "cell_type": "code",
      "execution_count": null,
      "metadata": {
        "id": "AVaMrtqHXw-C"
      },
      "outputs": [],
      "source": [
        "import pandas as pd\n",
        "import matplotlib.pyplot as plt\n",
        "import seaborn as sns\n",
        "\n",
        "# 1. Analyze the number of passengers in each category of \"who\"\n",
        "# The 'who' column represents the gender/age group of the passengers (male, female, child)\n",
        "df = pd.read_csv('titanic.csv')\n",
        "who_counts = df['Name'].value_counts()\n",
        "print(\"Number of passengers in each category of 'who':\")\n",
        "print(who_counts)"
      ]
    },
    {
      "cell_type": "code",
      "source": [
        "#2. Calculate the median age of passengers in the first class (Pclass == 1)\n",
        "median_age_first_class = df[df['Pclass'] == 1]['Age'].median()\n",
        "print(f\"\\nMedian age of passengers in the first class: {median_age_first_class}\")"
      ],
      "metadata": {
        "id": "THZTt3g_Yjsb"
      },
      "execution_count": null,
      "outputs": []
    },
    {
      "cell_type": "code",
      "source": [
        "# 3. Find the survival rate for passengers in the lowest class (third class)\n",
        "survival_rate_third_class = df[df['Pclass'] == 3]['Survived'].mean()\n",
        "print(f\"\\nSurvival rate for passengers in the third class: {survival_rate_third_class:.2f}\")"
      ],
      "metadata": {
        "id": "LbOODJa6Y-ex"
      },
      "execution_count": null,
      "outputs": []
    },
    {
      "cell_type": "code",
      "source": [
        "# 4. Replace missing 'Embarked' values with the most common (mode) value\n",
        "most_common_embarked = df['Embarked'].mode()[0]\n",
        "df['Embarked'].fillna(most_common_embarked, inplace=True)\n",
        "print(f\"\\nMissing 'Embarked' values have been replaced with the most common value: {most_common_embarked}\")"
      ],
      "metadata": {
        "id": "KCQsTPD7ZQTZ"
      },
      "execution_count": null,
      "outputs": []
    },
    {
      "cell_type": "code",
      "source": [
        "# 5. Create a histogram of fares paid by survivors and non-survivors\n",
        "plt.figure(figsize=(10, 6))\n",
        "\n",
        "# Split data into survivors and non-survivors\n",
        "survivors = df[df['Survived'] == 1]\n",
        "non_survivors = df[df['Survived'] == 0]\n",
        "\n",
        "# Plot histogram for survivors\n",
        "plt.hist(survivors['Fare'], bins=30, alpha=0.5, label='Survivors')\n",
        "\n",
        "# Plot histogram for non-survivors\n",
        "plt.hist(non_survivors['Fare'], bins=30, alpha=0.5, label='Non-Survivors')\n",
        "\n",
        "plt.title('Fare Distribution for Survivors and Non-Survivors')\n",
        "plt.xlabel('Fare')\n",
        "plt.ylabel('Frequency')\n",
        "plt.legend()\n",
        "\n",
        "plt.show()\n"
      ],
      "metadata": {
        "id": "ZTVgChI1Zhsg"
      },
      "execution_count": null,
      "outputs": []
    },
    {
      "cell_type": "code",
      "source": [
        "# 6. Compare survival rates for passengers traveling with family and those traveling alone\n",
        "# Create a new column to identify passengers with family\n",
        "df['Has_Family'] = (df['SibSp'] + df['Parch']) > 0\n",
        "\n",
        "# Calculate survival rates for passengers with and without family\n",
        "survival_rate_family = df[df['Has_Family'] == True]['Survived'].mean()\n",
        "survival_rate_alone = df[df['Has_Family'] == False]['Survived'].mean()\n",
        "\n",
        "print(f\"\\nSurvival rate for passengers traveling with family: {survival_rate_family:.2f}\")\n",
        "print(f\"Survival rate for passengers traveling alone: {survival_rate_alone:.2f}\")"
      ],
      "metadata": {
        "id": "QurmSaX8Zs2o"
      },
      "execution_count": null,
      "outputs": []
    }
  ]
}